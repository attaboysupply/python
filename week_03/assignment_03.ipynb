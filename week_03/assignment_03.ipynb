{
 "cells": [
  {
   "cell_type": "markdown",
   "metadata": {},
   "source": [
    "### Exercise 1: \n",
    "Study the following code and create your own mad-libs generator (please don't copy the example)"
   ]
  },
  {
   "cell_type": "markdown",
   "metadata": {},
   "source": [
    "### A Mad-Libs invitation generator\n",
    "\n",
    "Mad-Libs is a phrasal template word game where one player prompts others for a list of words to <b>substitute</b> for blanks in a story.\n",
    "\n",
    "We are going to create an event `invitation function` that would allow us to automate creating copies of event invitations.\n",
    "\n",
    "<span style=\"color:tomato\">The invitation template</span>:\n",
    "```\n",
    "    Hey, _guestname_!\n",
    "    You are invited to a _type_of_event_! Join us on _date_ at _location_!\n",
    "    Bring _items_.\n",
    "    \n",
    "    Best,\n",
    "    Party bear\n",
    "    \n",
    "```\n",
    "\n",
    "<span style=\"color:tomato\">An example output</span>:\n",
    "```\n",
    "    Hey, Sven!\n",
    "    You are invited to a gathering! Join us on dn2 yluJ at erauqS noinU!\n",
    "    Bring beverages, games, signs, masks, and facecovers.\n",
    "\n",
    "    Best,\n",
    "    Party bear\n",
    "```"
   ]
  },
  {
   "cell_type": "code",
   "execution_count": 7,
   "metadata": {},
   "outputs": [],
   "source": [
    "# EXAMPLE GENERATOR\n",
    "\n",
    "import random\n",
    "def event(namelist, event_type, date, loc, items):\n",
    "    \"\"\"\n",
    "        This function takes event information input, parse them and turn them into\n",
    "        a formatted invitation that's ready to be duplicate and populate.\n",
    "    \"\"\"\n",
    "    # outputs a random item from the list\n",
    "    def getRand(list):\n",
    "        return random.choice(list)\n",
    "    \n",
    "    # formats all outputs form a list as 'a, b, and c'\n",
    "    def getAll(li):\n",
    "        return ', '.join(li[:-1]) + \", and %s\" %(li[-1])\n",
    "    \n",
    "  \n",
    "    # variables needed:\n",
    "    guestlist = namelist\n",
    "    type_of_event = event_type\n",
    "    date = date[::-1]\n",
    "    location = loc[::-1] # a simple reversed encrption\n",
    "    items = items\n",
    "    invite_template = '''\n",
    "            Hey %s:\n",
    "            You are invited to a %s! Join us on %s at %s!\n",
    "            Bring %s.\n",
    "\n",
    "            Best,\n",
    "            Party bear\n",
    "\n",
    "            ---\n",
    "        ''' \n",
    "    \n",
    "    # loop through all guest tuples in the guestlist\n",
    "    # populate our invitations\n",
    "    for guests in guestlist:\n",
    "        print(invite_template % (guests,\n",
    "                                 type_of_event,\n",
    "                                 date,\n",
    "                                 location,\n",
    "                                 getAll(items)# try getRand()\n",
    "                                ))"
   ]
  },
  {
   "cell_type": "code",
   "execution_count": 7,
   "metadata": {},
   "outputs": [
    {
     "name": "stdout",
     "output_type": "stream",
     "text": [
      "\n",
      "            Hey Bob:\n",
      "            You are invited to a gathering! Join us on dn2 yluJ at erauqS noinU!\n",
      "            Bring beverages, games, signs, masks, and facecovers.\n",
      "\n",
      "            Best,\n",
      "            Party bear\n",
      "\n",
      "            ---\n",
      "        \n",
      "\n",
      "            Hey Mary & Friends:\n",
      "            You are invited to a gathering! Join us on dn2 yluJ at erauqS noinU!\n",
      "            Bring beverages, games, signs, masks, and facecovers.\n",
      "\n",
      "            Best,\n",
      "            Party bear\n",
      "\n",
      "            ---\n",
      "        \n",
      "\n",
      "            Hey Lan:\n",
      "            You are invited to a gathering! Join us on dn2 yluJ at erauqS noinU!\n",
      "            Bring beverages, games, signs, masks, and facecovers.\n",
      "\n",
      "            Best,\n",
      "            Party bear\n",
      "\n",
      "            ---\n",
      "        \n",
      "\n",
      "            Hey Anna:\n",
      "            You are invited to a gathering! Join us on dn2 yluJ at erauqS noinU!\n",
      "            Bring beverages, games, signs, masks, and facecovers.\n",
      "\n",
      "            Best,\n",
      "            Party bear\n",
      "\n",
      "            ---\n",
      "        \n",
      "\n",
      "            Hey Sven and friends:\n",
      "            You are invited to a gathering! Join us on dn2 yluJ at erauqS noinU!\n",
      "            Bring beverages, games, signs, masks, and facecovers.\n",
      "\n",
      "            Best,\n",
      "            Party bear\n",
      "\n",
      "            ---\n",
      "        \n",
      "\n",
      "            Hey Jason:\n",
      "            You are invited to a gathering! Join us on dn2 yluJ at erauqS noinU!\n",
      "            Bring beverages, games, signs, masks, and facecovers.\n",
      "\n",
      "            Best,\n",
      "            Party bear\n",
      "\n",
      "            ---\n",
      "        \n"
     ]
    }
   ],
   "source": [
    "guests = (\"Bob\",\"Mary & Friends\",\"Lan\",\"Anna\",\"Sven and friends\",\"Jason\")\n",
    "items = ['beverages','games','signs',\"masks\",\"facecovers\"]\n",
    "\n",
    "# call the generator function to populate invitations:\n",
    "event(guests, \"gathering\", \"July 2nd\", \"Union Square\", items)"
   ]
  },
  {
   "cell_type": "code",
   "execution_count": 27,
   "metadata": {},
   "outputs": [
    {
     "ename": "NameError",
     "evalue": "name 'grouplist' is not defined",
     "output_type": "error",
     "traceback": [
      "\u001b[1;31m---------------------------------------------------------------------------\u001b[0m",
      "\u001b[1;31mNameError\u001b[0m                                 Traceback (most recent call last)",
      "\u001b[1;32m<ipython-input-27-21673a88a2a3>\u001b[0m in \u001b[0;36m<module>\u001b[1;34m\u001b[0m\n\u001b[0;32m     18\u001b[0m     \u001b[0malert_template\u001b[0m\u001b[1;33m=\u001b[0m\u001b[1;34m'''Attention %! There is a %, code % in %. Please %!'''\u001b[0m\u001b[1;33m\u001b[0m\u001b[1;33m\u001b[0m\u001b[0m\n\u001b[0;32m     19\u001b[0m \u001b[1;33m\u001b[0m\u001b[0m\n\u001b[1;32m---> 20\u001b[1;33m \u001b[1;32mfor\u001b[0m \u001b[0mgroups\u001b[0m \u001b[1;32min\u001b[0m \u001b[0mgrouplist\u001b[0m\u001b[1;33m:\u001b[0m\u001b[1;33m\u001b[0m\u001b[1;33m\u001b[0m\u001b[0m\n\u001b[0m\u001b[0;32m     21\u001b[0m     \u001b[0mprint\u001b[0m \u001b[1;33m(\u001b[0m\u001b[0malert_template\u001b[0m \u001b[1;33m%\u001b[0m \u001b[1;33m(\u001b[0m\u001b[0mgroups\u001b[0m\u001b[1;33m,\u001b[0m \u001b[0mtype_of_alert\u001b[0m\u001b[1;33m,\u001b[0m \u001b[0mcolor\u001b[0m\u001b[1;33m,\u001b[0m \u001b[0marea\u001b[0m\u001b[1;33m,\u001b[0m \u001b[0mgetAll\u001b[0m\u001b[1;33m(\u001b[0m\u001b[0maction\u001b[0m\u001b[1;33m)\u001b[0m\u001b[1;33m)\u001b[0m\u001b[1;33m)\u001b[0m\u001b[1;33m\u001b[0m\u001b[1;33m\u001b[0m\u001b[0m\n",
      "\u001b[1;31mNameError\u001b[0m: name 'grouplist' is not defined"
     ]
    }
   ],
   "source": [
    "# Exercise 1 Code Here:\n",
    "\n",
    "# Template\n",
    "# Attention 'group_list'! There is a 'alert_type', code 'color_code' in 'area'. Please 'action'.\n",
    "\n",
    "import random\n",
    "def event(namelist, alert_type, color_code, area, action):\n",
    "    def getRand(list):\n",
    "        return random.choice(list)\n",
    "    def getAll(li):\n",
    "        return ','.join(li[:-1]) + \", and %s\" %(li[-1])\n",
    "    \n",
    "    grouplist=namelist\n",
    "    type_of_alert=alert_type\n",
    "    color=color_code\n",
    "    area=area[::-1]\n",
    "    action=action[::-1]\n",
    "    alert_template='''Attention %! There is a %, code % in %. Please %!'''\n",
    "    \n",
    "for groups in grouplist:\n",
    "    print (alert_template % (groups, type_of_alert, color, area, getAll(action)))"
   ]
  },
  {
   "cell_type": "code",
   "execution_count": 29,
   "metadata": {},
   "outputs": [
    {
     "ename": "TypeError",
     "evalue": "'list' object is not callable",
     "output_type": "error",
     "traceback": [
      "\u001b[1;31m---------------------------------------------------------------------------\u001b[0m",
      "\u001b[1;31mTypeError\u001b[0m                                 Traceback (most recent call last)",
      "\u001b[1;32m<ipython-input-29-07a516677129>\u001b[0m in \u001b[0;36m<module>\u001b[1;34m\u001b[0m\n\u001b[0;32m      2\u001b[0m \u001b[0mcolor\u001b[0m \u001b[1;33m=\u001b[0m \u001b[1;33m[\u001b[0m\u001b[1;34m'beverages'\u001b[0m\u001b[1;33m,\u001b[0m\u001b[1;34m'games'\u001b[0m\u001b[1;33m,\u001b[0m\u001b[1;34m'signs'\u001b[0m\u001b[1;33m,\u001b[0m\u001b[1;34m\"masks\"\u001b[0m\u001b[1;33m,\u001b[0m\u001b[1;34m\"facecovers\"\u001b[0m\u001b[1;33m]\u001b[0m\u001b[1;33m\u001b[0m\u001b[1;33m\u001b[0m\u001b[0m\n\u001b[0;32m      3\u001b[0m \u001b[1;33m\u001b[0m\u001b[0m\n\u001b[1;32m----> 4\u001b[1;33m \u001b[0maction\u001b[0m\u001b[1;33m(\u001b[0m\u001b[0mgroups\u001b[0m\u001b[1;33m,\u001b[0m \u001b[1;34m\"gathering\"\u001b[0m\u001b[1;33m,\u001b[0m \u001b[1;34m\"July 2nd\"\u001b[0m\u001b[1;33m,\u001b[0m \u001b[1;34m\"Union Square\"\u001b[0m\u001b[1;33m,\u001b[0m \u001b[0mcolor\u001b[0m\u001b[1;33m)\u001b[0m\u001b[1;33m\u001b[0m\u001b[1;33m\u001b[0m\u001b[0m\n\u001b[0m",
      "\u001b[1;31mTypeError\u001b[0m: 'list' object is not callable"
     ]
    }
   ],
   "source": [
    "    \n",
    "groups = (\"Research & Development\",\"Security\",\"Maintainance\",\"Engineering\")\n",
    "color = ['beverages','games','signs',\"masks\",\"facecovers\"]\n",
    "\n",
    "action(groups, \"gathering\", \"July 2nd\", \"Union Square\", color)"
   ]
  },
  {
   "cell_type": "markdown",
   "metadata": {},
   "source": [
    "### Exercise 2: \n",
    "\n",
    "### What is a palindrome?\n",
    "A palindrome is a word or phrase that is spelled the same forwards as backwards, like:\n",
    "\n",
    "```\n",
    "wow\n",
    "Anna\n",
    "race car\n",
    "Was it a cat I saw?\n",
    "```\n",
    "\n",
    "Create a function that checks whether or not a given phrase is a palindrome. Here's the plan:\n",
    "* Our function will be called `isPalindrome()`.\n",
    "* It will accept one **argument** called `txt`, which is a string.\n",
    "* It will print True if `txt` is a palindrome or `False` if `txt`\n",
    "  is not a palindrome.\n",
    "\n",
    "### Test your function along the way\n",
    "We will use the following test cases to guide us:\n",
    "\n",
    "The following should all return `True`:\n",
    "```\n",
    "isPalindrome('wow')\n",
    "isPalindrome('12a3a21')\n",
    "isPalindrome('Anna')\n",
    "isPalindrome('race car')\n",
    "isPalindrome('Was it a cat I saw?')\n",
    "```\n",
    "\n",
    "The following should all return `False`:\n",
    "```\n",
    "isPalindrome('wowza')\n",
    "isPalindrome('123a21')\n",
    "isPalindrome('<3 mom <3')\n",
    "```\n",
    "\n",
    "### Things to Consider:\n",
    " - Make everything lowercase.\n",
    " - Replace all spaces with an empty string\n",
    " - Replace all spaces with an empty string\n",
    " - How would we spell a word backwards or forwards?"
   ]
  },
  {
   "cell_type": "code",
   "execution_count": 21,
   "metadata": {},
   "outputs": [
    {
     "name": "stdout",
     "output_type": "stream",
     "text": [
      "wow\n",
      "Yes!\n"
     ]
    }
   ],
   "source": [
    "# Exercise 2 Code Here:\n",
    "\n",
    "#Create an input option for the user to test if a string is a palindrome.\n",
    "\n",
    "def isPalindrome(x):\n",
    "    return x==x[::-1]\n",
    "x=input()\n",
    "ans = isPalindrome(x)\n",
    "\n",
    "if ans:\n",
    "    print(\"Yes!\")\n",
    "else:\n",
    "    print(\"No!\")"
   ]
  },
  {
   "cell_type": "markdown",
   "metadata": {},
   "source": [
    "### Exercise 3: \n",
    "Create a dataset of your own using using a dictionary and make a simple visualization with it. Branch out and see what types of graphs you could use here: https://matplotlib.org/ . Don't be shy to Google things you don't know!!!"
   ]
  },
  {
   "cell_type": "code",
   "execution_count": 9,
   "metadata": {},
   "outputs": [],
   "source": [
    "import matplotlib\n",
    "import matplotlib.pyplot as plt"
   ]
  },
  {
   "cell_type": "code",
   "execution_count": 40,
   "metadata": {},
   "outputs": [
    {
     "ename": "SyntaxError",
     "evalue": "invalid syntax (<ipython-input-40-332f0d35ce34>, line 4)",
     "output_type": "error",
     "traceback": [
      "\u001b[1;36m  File \u001b[1;32m\"<ipython-input-40-332f0d35ce34>\"\u001b[1;36m, line \u001b[1;32m4\u001b[0m\n\u001b[1;33m    cities = dict(New_York_City:3644, Detroit=499, Los_Angeles=8965, Miami=10105, Chicago=10636)\u001b[0m\n\u001b[1;37m                               ^\u001b[0m\n\u001b[1;31mSyntaxError\u001b[0m\u001b[1;31m:\u001b[0m invalid syntax\n"
     ]
    }
   ],
   "source": [
    "# Exercise 3 Code Here:\n",
    "# Setting my dictionary for covid daily cases for various cities.\n",
    "\n",
    "cities = dict(New_York_City:3644, Detroit=499, Los_Angeles=8965, Miami=10105, Chicago=10636)\n",
    "print(cities)\n",
    "print(cities[New_York_City])"
   ]
  },
  {
   "cell_type": "code",
   "execution_count": 37,
   "metadata": {},
   "outputs": [
    {
     "ename": "TypeError",
     "evalue": "unsupported operand type(s) for +: 'int' and 'dict'",
     "output_type": "error",
     "traceback": [
      "\u001b[1;31m---------------------------------------------------------------------------\u001b[0m",
      "\u001b[1;31mTypeError\u001b[0m                                 Traceback (most recent call last)",
      "\u001b[1;32m<ipython-input-37-3e55e1702763>\u001b[0m in \u001b[0;36m<module>\u001b[1;34m\u001b[0m\n\u001b[0;32m      6\u001b[0m \u001b[0merror\u001b[0m \u001b[1;33m=\u001b[0m \u001b[0mnp\u001b[0m\u001b[1;33m.\u001b[0m\u001b[0mrandom\u001b[0m\u001b[1;33m.\u001b[0m\u001b[0mrand\u001b[0m\u001b[1;33m(\u001b[0m\u001b[0mlen\u001b[0m\u001b[1;33m(\u001b[0m\u001b[0mcities\u001b[0m\u001b[1;33m)\u001b[0m\u001b[1;33m)\u001b[0m\u001b[1;33m\u001b[0m\u001b[1;33m\u001b[0m\u001b[0m\n\u001b[0;32m      7\u001b[0m \u001b[1;33m\u001b[0m\u001b[0m\n\u001b[1;32m----> 8\u001b[1;33m \u001b[0max\u001b[0m\u001b[1;33m.\u001b[0m\u001b[0mbarh\u001b[0m\u001b[1;33m(\u001b[0m\u001b[0my_pos\u001b[0m\u001b[1;33m,\u001b[0m \u001b[0mcities\u001b[0m\u001b[1;33m,\u001b[0m \u001b[0mxerr\u001b[0m\u001b[1;33m=\u001b[0m\u001b[0merror\u001b[0m\u001b[1;33m,\u001b[0m \u001b[0malign\u001b[0m\u001b[1;33m=\u001b[0m\u001b[1;34m'center'\u001b[0m\u001b[1;33m)\u001b[0m\u001b[1;33m\u001b[0m\u001b[1;33m\u001b[0m\u001b[0m\n\u001b[0m\u001b[0;32m      9\u001b[0m \u001b[0max\u001b[0m\u001b[1;33m.\u001b[0m\u001b[0mset_yticks\u001b[0m\u001b[1;33m(\u001b[0m\u001b[0my_pos\u001b[0m\u001b[1;33m)\u001b[0m\u001b[1;33m\u001b[0m\u001b[1;33m\u001b[0m\u001b[0m\n\u001b[0;32m     10\u001b[0m \u001b[0max\u001b[0m\u001b[1;33m.\u001b[0m\u001b[0mset_yticklabels\u001b[0m\u001b[1;33m(\u001b[0m\u001b[1;33m[\u001b[0m\u001b[0mcities\u001b[0m\u001b[1;33m]\u001b[0m\u001b[1;33m)\u001b[0m\u001b[1;33m\u001b[0m\u001b[1;33m\u001b[0m\u001b[0m\n",
      "\u001b[1;32m~\\anaconda3\\lib\\site-packages\\matplotlib\\axes\\_axes.py\u001b[0m in \u001b[0;36mbarh\u001b[1;34m(self, y, width, height, left, align, **kwargs)\u001b[0m\n\u001b[0;32m   2544\u001b[0m         \"\"\"\n\u001b[0;32m   2545\u001b[0m         \u001b[0mkwargs\u001b[0m\u001b[1;33m.\u001b[0m\u001b[0msetdefault\u001b[0m\u001b[1;33m(\u001b[0m\u001b[1;34m'orientation'\u001b[0m\u001b[1;33m,\u001b[0m \u001b[1;34m'horizontal'\u001b[0m\u001b[1;33m)\u001b[0m\u001b[1;33m\u001b[0m\u001b[1;33m\u001b[0m\u001b[0m\n\u001b[1;32m-> 2546\u001b[1;33m         patches = self.bar(x=left, height=height, width=width, bottom=y,\n\u001b[0m\u001b[0;32m   2547\u001b[0m                            align=align, **kwargs)\n\u001b[0;32m   2548\u001b[0m         \u001b[1;32mreturn\u001b[0m \u001b[0mpatches\u001b[0m\u001b[1;33m\u001b[0m\u001b[1;33m\u001b[0m\u001b[0m\n",
      "\u001b[1;32m~\\anaconda3\\lib\\site-packages\\matplotlib\\__init__.py\u001b[0m in \u001b[0;36minner\u001b[1;34m(ax, data, *args, **kwargs)\u001b[0m\n\u001b[0;32m   1563\u001b[0m     \u001b[1;32mdef\u001b[0m \u001b[0minner\u001b[0m\u001b[1;33m(\u001b[0m\u001b[0max\u001b[0m\u001b[1;33m,\u001b[0m \u001b[1;33m*\u001b[0m\u001b[0margs\u001b[0m\u001b[1;33m,\u001b[0m \u001b[0mdata\u001b[0m\u001b[1;33m=\u001b[0m\u001b[1;32mNone\u001b[0m\u001b[1;33m,\u001b[0m \u001b[1;33m**\u001b[0m\u001b[0mkwargs\u001b[0m\u001b[1;33m)\u001b[0m\u001b[1;33m:\u001b[0m\u001b[1;33m\u001b[0m\u001b[1;33m\u001b[0m\u001b[0m\n\u001b[0;32m   1564\u001b[0m         \u001b[1;32mif\u001b[0m \u001b[0mdata\u001b[0m \u001b[1;32mis\u001b[0m \u001b[1;32mNone\u001b[0m\u001b[1;33m:\u001b[0m\u001b[1;33m\u001b[0m\u001b[1;33m\u001b[0m\u001b[0m\n\u001b[1;32m-> 1565\u001b[1;33m             \u001b[1;32mreturn\u001b[0m \u001b[0mfunc\u001b[0m\u001b[1;33m(\u001b[0m\u001b[0max\u001b[0m\u001b[1;33m,\u001b[0m \u001b[1;33m*\u001b[0m\u001b[0mmap\u001b[0m\u001b[1;33m(\u001b[0m\u001b[0msanitize_sequence\u001b[0m\u001b[1;33m,\u001b[0m \u001b[0margs\u001b[0m\u001b[1;33m)\u001b[0m\u001b[1;33m,\u001b[0m \u001b[1;33m**\u001b[0m\u001b[0mkwargs\u001b[0m\u001b[1;33m)\u001b[0m\u001b[1;33m\u001b[0m\u001b[1;33m\u001b[0m\u001b[0m\n\u001b[0m\u001b[0;32m   1566\u001b[0m \u001b[1;33m\u001b[0m\u001b[0m\n\u001b[0;32m   1567\u001b[0m         \u001b[0mbound\u001b[0m \u001b[1;33m=\u001b[0m \u001b[0mnew_sig\u001b[0m\u001b[1;33m.\u001b[0m\u001b[0mbind\u001b[0m\u001b[1;33m(\u001b[0m\u001b[0max\u001b[0m\u001b[1;33m,\u001b[0m \u001b[1;33m*\u001b[0m\u001b[0margs\u001b[0m\u001b[1;33m,\u001b[0m \u001b[1;33m**\u001b[0m\u001b[0mkwargs\u001b[0m\u001b[1;33m)\u001b[0m\u001b[1;33m\u001b[0m\u001b[1;33m\u001b[0m\u001b[0m\n",
      "\u001b[1;32m~\\anaconda3\\lib\\site-packages\\matplotlib\\axes\\_axes.py\u001b[0m in \u001b[0;36mbar\u001b[1;34m(self, x, height, width, bottom, align, **kwargs)\u001b[0m\n\u001b[0;32m   2389\u001b[0m         \u001b[0margs\u001b[0m \u001b[1;33m=\u001b[0m \u001b[0mzip\u001b[0m\u001b[1;33m(\u001b[0m\u001b[0mleft\u001b[0m\u001b[1;33m,\u001b[0m \u001b[0mbottom\u001b[0m\u001b[1;33m,\u001b[0m \u001b[0mwidth\u001b[0m\u001b[1;33m,\u001b[0m \u001b[0mheight\u001b[0m\u001b[1;33m,\u001b[0m \u001b[0mcolor\u001b[0m\u001b[1;33m,\u001b[0m \u001b[0medgecolor\u001b[0m\u001b[1;33m,\u001b[0m \u001b[0mlinewidth\u001b[0m\u001b[1;33m)\u001b[0m\u001b[1;33m\u001b[0m\u001b[1;33m\u001b[0m\u001b[0m\n\u001b[0;32m   2390\u001b[0m         \u001b[1;32mfor\u001b[0m \u001b[0ml\u001b[0m\u001b[1;33m,\u001b[0m \u001b[0mb\u001b[0m\u001b[1;33m,\u001b[0m \u001b[0mw\u001b[0m\u001b[1;33m,\u001b[0m \u001b[0mh\u001b[0m\u001b[1;33m,\u001b[0m \u001b[0mc\u001b[0m\u001b[1;33m,\u001b[0m \u001b[0me\u001b[0m\u001b[1;33m,\u001b[0m \u001b[0mlw\u001b[0m \u001b[1;32min\u001b[0m \u001b[0margs\u001b[0m\u001b[1;33m:\u001b[0m\u001b[1;33m\u001b[0m\u001b[1;33m\u001b[0m\u001b[0m\n\u001b[1;32m-> 2391\u001b[1;33m             r = mpatches.Rectangle(\n\u001b[0m\u001b[0;32m   2392\u001b[0m                 \u001b[0mxy\u001b[0m\u001b[1;33m=\u001b[0m\u001b[1;33m(\u001b[0m\u001b[0ml\u001b[0m\u001b[1;33m,\u001b[0m \u001b[0mb\u001b[0m\u001b[1;33m)\u001b[0m\u001b[1;33m,\u001b[0m \u001b[0mwidth\u001b[0m\u001b[1;33m=\u001b[0m\u001b[0mw\u001b[0m\u001b[1;33m,\u001b[0m \u001b[0mheight\u001b[0m\u001b[1;33m=\u001b[0m\u001b[0mh\u001b[0m\u001b[1;33m,\u001b[0m\u001b[1;33m\u001b[0m\u001b[1;33m\u001b[0m\u001b[0m\n\u001b[0;32m   2393\u001b[0m                 \u001b[0mfacecolor\u001b[0m\u001b[1;33m=\u001b[0m\u001b[0mc\u001b[0m\u001b[1;33m,\u001b[0m\u001b[1;33m\u001b[0m\u001b[1;33m\u001b[0m\u001b[0m\n",
      "\u001b[1;32m~\\anaconda3\\lib\\site-packages\\matplotlib\\patches.py\u001b[0m in \u001b[0;36m__init__\u001b[1;34m(self, xy, width, height, angle, **kwargs)\u001b[0m\n\u001b[0;32m    733\u001b[0m         \u001b[0mself\u001b[0m\u001b[1;33m.\u001b[0m\u001b[0m_height\u001b[0m \u001b[1;33m=\u001b[0m \u001b[0mheight\u001b[0m\u001b[1;33m\u001b[0m\u001b[1;33m\u001b[0m\u001b[0m\n\u001b[0;32m    734\u001b[0m \u001b[1;33m\u001b[0m\u001b[0m\n\u001b[1;32m--> 735\u001b[1;33m         \u001b[0mself\u001b[0m\u001b[1;33m.\u001b[0m\u001b[0m_x1\u001b[0m \u001b[1;33m=\u001b[0m \u001b[0mself\u001b[0m\u001b[1;33m.\u001b[0m\u001b[0m_x0\u001b[0m \u001b[1;33m+\u001b[0m \u001b[0mself\u001b[0m\u001b[1;33m.\u001b[0m\u001b[0m_width\u001b[0m\u001b[1;33m\u001b[0m\u001b[1;33m\u001b[0m\u001b[0m\n\u001b[0m\u001b[0;32m    736\u001b[0m         \u001b[0mself\u001b[0m\u001b[1;33m.\u001b[0m\u001b[0m_y1\u001b[0m \u001b[1;33m=\u001b[0m \u001b[0mself\u001b[0m\u001b[1;33m.\u001b[0m\u001b[0m_y0\u001b[0m \u001b[1;33m+\u001b[0m \u001b[0mself\u001b[0m\u001b[1;33m.\u001b[0m\u001b[0m_height\u001b[0m\u001b[1;33m\u001b[0m\u001b[1;33m\u001b[0m\u001b[0m\n\u001b[0;32m    737\u001b[0m \u001b[1;33m\u001b[0m\u001b[0m\n",
      "\u001b[1;31mTypeError\u001b[0m: unsupported operand type(s) for +: 'int' and 'dict'"
     ]
    },
    {
     "data": {
      "image/png": "[encoded data removed]",
      "text/plain": [
       "<Figure size 640x480 with 1 Axes>"
      ]
     },
     "metadata": {},
     "output_type": "display_data"
    }
   ],
   "source": [
    "plt.rcdefaults()\n",
    "fig, ax = plt.subplots()\n",
    "\n",
    "y_pos = np.arange(len(cities))\n",
    "error = np.random.rand(len(cities))\n",
    "\n",
    "ax.barh(y_pos, cities, xerr=error, align='center')\n",
    "ax.set_yticks(y_pos)\n",
    "ax.set_yticklabels([cities])\n",
    "ax.invert_yaxis()  # labels read top-to-bottom\n",
    "ax.set_xlabel('Cities')\n",
    "ax.set_title('Covid Cases')"
   ]
  },
  {
   "cell_type": "code",
   "execution_count": null,
   "metadata": {},
   "outputs": [],
   "source": []
  }
 ],
 "metadata": {
  "kernelspec": {
   "display_name": "Python 3",
   "language": "python",
   "name": "python3"
  },
  "language_info": {
   "codemirror_mode": {
    "name": "ipython",
    "version": 3
   },
   "file_extension": ".py",
   "mimetype": "text/x-python",
   "name": "python",
   "nbconvert_exporter": "python",
   "pygments_lexer": "ipython3",
   "version": "3.8.3"
  }
 },
 "nbformat": 4,
 "nbformat_minor": 4
}
